{
  "nbformat": 4,
  "nbformat_minor": 0,
  "metadata": {
    "colab": {
      "provenance": [],
      "include_colab_link": true
    },
    "kernelspec": {
      "name": "python3",
      "display_name": "Python 3"
    },
    "language_info": {
      "name": "python"
    }
  },
  "cells": [
    {
      "cell_type": "markdown",
      "metadata": {
        "id": "view-in-github",
        "colab_type": "text"
      },
      "source": [
        "<a href=\"https://colab.research.google.com/github/esha21101/AntennaCalculationAutotuningTool/blob/main/IL_1.ipynb\" target=\"_parent\"><img src=\"https://colab.research.google.com/assets/colab-badge.svg\" alt=\"Open In Colab\"/></a>"
      ]
    },
    {
      "cell_type": "code",
      "execution_count": null,
      "metadata": {
        "id": "QLRI2D_drP01"
      },
      "outputs": [],
      "source": [
        "import numpy as np\n",
        "import pandas as pd\n",
        "import tensorflow as tf\n",
        "from sklearn.model_selection import train_test_split\n"
      ]
    },
    {
      "cell_type": "code",
      "source": [
        "# Load the dataset\n",
        "data = pd.read_csv('ana_data.csv')\n",
        "\n",
        "# Separate features (input) and targets (output)\n",
        "X = data[['Frequency', 'length', 'width']]  # Features\n",
        "y = data['s11']  # Target\n",
        "\n",
        "# Convert to numpy arrays\n",
        "X = np.array(X)\n",
        "y = np.array(y)\n"
      ],
      "metadata": {
        "id": "6anoX3w_rUd4"
      },
      "execution_count": null,
      "outputs": []
    },
    {
      "cell_type": "code",
      "source": [
        "# Split the dataset into training and evaluation sets\n",
        "X_train, X_eval, y_train, y_eval = train_test_split(X, y, test_size=0.2, random_state=42)\n"
      ],
      "metadata": {
        "id": "8Uh4vpjKtNiB"
      },
      "execution_count": null,
      "outputs": []
    },
    {
      "cell_type": "code",
      "source": [
        "# Define the neural network model\n",
        "model = tf.keras.Sequential([\n",
        "    tf.keras.layers.Dense(64, activation='relu', input_shape=(X_train.shape[1],)),\n",
        "    tf.keras.layers.Dense(32, activation='relu'),\n",
        "    tf.keras.layers.Dense(1)  # Output layer\n",
        "])\n",
        "\n",
        "# Compile the model\n",
        "model.compile(optimizer='adam', loss='mean_squared_error', metrics=['mse'])\n"
      ],
      "metadata": {
        "id": "aZUfqF84tVGY"
      },
      "execution_count": null,
      "outputs": []
    },
    {
      "cell_type": "code",
      "source": [
        "# Train the model\n",
        "model.fit(X_train, y_train, epochs=50, batch_size=32, validation_data=(X_eval, y_eval))\n"
      ],
      "metadata": {
        "colab": {
          "base_uri": "https://localhost:8080/"
        },
        "id": "KTAq7wUktXQi",
        "outputId": "e265af18-8ace-45f2-f912-4a243a9f6028"
      },
      "execution_count": null,
      "outputs": [
        {
          "output_type": "stream",
          "name": "stdout",
          "text": [
            "Epoch 1/50\n",
            "32/32 [==============================] - 1s 10ms/step - loss: 19.3902 - mse: 19.3902 - val_loss: 7.5940 - val_mse: 7.5940\n",
            "Epoch 2/50\n",
            "32/32 [==============================] - 0s 3ms/step - loss: 8.6213 - mse: 8.6213 - val_loss: 7.4292 - val_mse: 7.4292\n",
            "Epoch 3/50\n",
            "32/32 [==============================] - 0s 3ms/step - loss: 8.0504 - mse: 8.0504 - val_loss: 7.3620 - val_mse: 7.3620\n",
            "Epoch 4/50\n",
            "32/32 [==============================] - 0s 3ms/step - loss: 8.0140 - mse: 8.0140 - val_loss: 7.6076 - val_mse: 7.6076\n",
            "Epoch 5/50\n",
            "32/32 [==============================] - 0s 3ms/step - loss: 8.0328 - mse: 8.0328 - val_loss: 7.4883 - val_mse: 7.4883\n",
            "Epoch 6/50\n",
            "32/32 [==============================] - 0s 3ms/step - loss: 8.0447 - mse: 8.0447 - val_loss: 7.2755 - val_mse: 7.2755\n",
            "Epoch 7/50\n",
            "32/32 [==============================] - 0s 3ms/step - loss: 7.9298 - mse: 7.9298 - val_loss: 7.2290 - val_mse: 7.2290\n",
            "Epoch 8/50\n",
            "32/32 [==============================] - 0s 3ms/step - loss: 7.8987 - mse: 7.8987 - val_loss: 7.1970 - val_mse: 7.1970\n",
            "Epoch 9/50\n",
            "32/32 [==============================] - 0s 4ms/step - loss: 8.0273 - mse: 8.0273 - val_loss: 7.1916 - val_mse: 7.1916\n",
            "Epoch 10/50\n",
            "32/32 [==============================] - 0s 4ms/step - loss: 7.9285 - mse: 7.9285 - val_loss: 7.2801 - val_mse: 7.2801\n",
            "Epoch 11/50\n",
            "32/32 [==============================] - 0s 3ms/step - loss: 7.8681 - mse: 7.8681 - val_loss: 7.1870 - val_mse: 7.1870\n",
            "Epoch 12/50\n",
            "32/32 [==============================] - 0s 3ms/step - loss: 7.8924 - mse: 7.8924 - val_loss: 7.1004 - val_mse: 7.1004\n",
            "Epoch 13/50\n",
            "32/32 [==============================] - 0s 4ms/step - loss: 7.9207 - mse: 7.9207 - val_loss: 7.4609 - val_mse: 7.4609\n",
            "Epoch 14/50\n",
            "32/32 [==============================] - 0s 3ms/step - loss: 7.8946 - mse: 7.8946 - val_loss: 7.1712 - val_mse: 7.1712\n",
            "Epoch 15/50\n",
            "32/32 [==============================] - 0s 3ms/step - loss: 7.8629 - mse: 7.8629 - val_loss: 7.0454 - val_mse: 7.0454\n",
            "Epoch 16/50\n",
            "32/32 [==============================] - 0s 3ms/step - loss: 7.9175 - mse: 7.9175 - val_loss: 7.0836 - val_mse: 7.0836\n",
            "Epoch 17/50\n",
            "32/32 [==============================] - 0s 3ms/step - loss: 7.8446 - mse: 7.8446 - val_loss: 7.0490 - val_mse: 7.0490\n",
            "Epoch 18/50\n",
            "32/32 [==============================] - 0s 3ms/step - loss: 7.7535 - mse: 7.7535 - val_loss: 7.0097 - val_mse: 7.0097\n",
            "Epoch 19/50\n",
            "32/32 [==============================] - 0s 3ms/step - loss: 7.8431 - mse: 7.8431 - val_loss: 7.0333 - val_mse: 7.0333\n",
            "Epoch 20/50\n",
            "32/32 [==============================] - 0s 3ms/step - loss: 8.1934 - mse: 8.1934 - val_loss: 7.0311 - val_mse: 7.0311\n",
            "Epoch 21/50\n",
            "32/32 [==============================] - 0s 3ms/step - loss: 7.8961 - mse: 7.8961 - val_loss: 7.0760 - val_mse: 7.0760\n",
            "Epoch 22/50\n",
            "32/32 [==============================] - 0s 4ms/step - loss: 7.7152 - mse: 7.7152 - val_loss: 6.9358 - val_mse: 6.9358\n",
            "Epoch 23/50\n",
            "32/32 [==============================] - 0s 3ms/step - loss: 7.6755 - mse: 7.6755 - val_loss: 6.9268 - val_mse: 6.9268\n",
            "Epoch 24/50\n",
            "32/32 [==============================] - 0s 3ms/step - loss: 7.6590 - mse: 7.6590 - val_loss: 6.9082 - val_mse: 6.9082\n",
            "Epoch 25/50\n",
            "32/32 [==============================] - 0s 4ms/step - loss: 7.7065 - mse: 7.7065 - val_loss: 7.2763 - val_mse: 7.2763\n",
            "Epoch 26/50\n",
            "32/32 [==============================] - 0s 4ms/step - loss: 7.6999 - mse: 7.6999 - val_loss: 6.9632 - val_mse: 6.9632\n",
            "Epoch 27/50\n",
            "32/32 [==============================] - 0s 3ms/step - loss: 7.6190 - mse: 7.6190 - val_loss: 7.1479 - val_mse: 7.1479\n",
            "Epoch 28/50\n",
            "32/32 [==============================] - 0s 3ms/step - loss: 7.5637 - mse: 7.5637 - val_loss: 6.9183 - val_mse: 6.9183\n",
            "Epoch 29/50\n",
            "32/32 [==============================] - 0s 3ms/step - loss: 7.6922 - mse: 7.6922 - val_loss: 6.9440 - val_mse: 6.9440\n",
            "Epoch 30/50\n",
            "32/32 [==============================] - 0s 3ms/step - loss: 7.6578 - mse: 7.6578 - val_loss: 7.0465 - val_mse: 7.0465\n",
            "Epoch 31/50\n",
            "32/32 [==============================] - 0s 4ms/step - loss: 7.6846 - mse: 7.6846 - val_loss: 6.8394 - val_mse: 6.8394\n",
            "Epoch 32/50\n",
            "32/32 [==============================] - 0s 3ms/step - loss: 7.6760 - mse: 7.6760 - val_loss: 6.9678 - val_mse: 6.9678\n",
            "Epoch 33/50\n",
            "32/32 [==============================] - 0s 3ms/step - loss: 7.6746 - mse: 7.6746 - val_loss: 6.8199 - val_mse: 6.8199\n",
            "Epoch 34/50\n",
            "32/32 [==============================] - 0s 3ms/step - loss: 7.5788 - mse: 7.5788 - val_loss: 6.7472 - val_mse: 6.7472\n",
            "Epoch 35/50\n",
            "32/32 [==============================] - 0s 3ms/step - loss: 7.5108 - mse: 7.5108 - val_loss: 6.8262 - val_mse: 6.8262\n",
            "Epoch 36/50\n",
            "32/32 [==============================] - 0s 3ms/step - loss: 7.5089 - mse: 7.5089 - val_loss: 6.8595 - val_mse: 6.8595\n",
            "Epoch 37/50\n",
            "32/32 [==============================] - 0s 3ms/step - loss: 7.6252 - mse: 7.6252 - val_loss: 7.0209 - val_mse: 7.0209\n",
            "Epoch 38/50\n",
            "32/32 [==============================] - 0s 3ms/step - loss: 7.8529 - mse: 7.8529 - val_loss: 6.9731 - val_mse: 6.9731\n",
            "Epoch 39/50\n",
            "32/32 [==============================] - 0s 3ms/step - loss: 7.6960 - mse: 7.6960 - val_loss: 6.8926 - val_mse: 6.8926\n",
            "Epoch 40/50\n",
            "32/32 [==============================] - 0s 4ms/step - loss: 7.6154 - mse: 7.6154 - val_loss: 6.6629 - val_mse: 6.6629\n",
            "Epoch 41/50\n",
            "32/32 [==============================] - 0s 3ms/step - loss: 7.4998 - mse: 7.4998 - val_loss: 7.0967 - val_mse: 7.0967\n",
            "Epoch 42/50\n",
            "32/32 [==============================] - 0s 4ms/step - loss: 7.6103 - mse: 7.6103 - val_loss: 6.7233 - val_mse: 6.7233\n",
            "Epoch 43/50\n",
            "32/32 [==============================] - 0s 3ms/step - loss: 7.4314 - mse: 7.4314 - val_loss: 6.8469 - val_mse: 6.8469\n",
            "Epoch 44/50\n",
            "32/32 [==============================] - 0s 3ms/step - loss: 7.3838 - mse: 7.3838 - val_loss: 6.7638 - val_mse: 6.7638\n",
            "Epoch 45/50\n",
            "32/32 [==============================] - 0s 3ms/step - loss: 7.4419 - mse: 7.4419 - val_loss: 6.6850 - val_mse: 6.6850\n",
            "Epoch 46/50\n",
            "32/32 [==============================] - 0s 3ms/step - loss: 7.5683 - mse: 7.5683 - val_loss: 6.8363 - val_mse: 6.8363\n",
            "Epoch 47/50\n",
            "32/32 [==============================] - 0s 3ms/step - loss: 7.5762 - mse: 7.5762 - val_loss: 6.9218 - val_mse: 6.9218\n",
            "Epoch 48/50\n",
            "32/32 [==============================] - 0s 3ms/step - loss: 7.6568 - mse: 7.6568 - val_loss: 6.5497 - val_mse: 6.5497\n",
            "Epoch 49/50\n",
            "32/32 [==============================] - 0s 3ms/step - loss: 7.3800 - mse: 7.3800 - val_loss: 6.5769 - val_mse: 6.5769\n",
            "Epoch 50/50\n",
            "32/32 [==============================] - 0s 3ms/step - loss: 7.4487 - mse: 7.4487 - val_loss: 6.5460 - val_mse: 6.5460\n"
          ]
        },
        {
          "output_type": "execute_result",
          "data": {
            "text/plain": [
              "<keras.src.callbacks.History at 0x7bd2dcfcacb0>"
            ]
          },
          "metadata": {},
          "execution_count": 5
        }
      ]
    },
    {
      "cell_type": "code",
      "source": [
        "# Evaluate the model\n",
        "loss, mse = model.evaluate(X_eval, y_eval)\n",
        "print(\"Evaluation Loss:\", loss)\n",
        "print(\"Evaluation Mean Squared Error:\", mse)\n"
      ],
      "metadata": {
        "colab": {
          "base_uri": "https://localhost:8080/"
        },
        "id": "pfgbZDpNtaHb",
        "outputId": "2bf115f0-bc99-4c20-94a9-7c5cca094956"
      },
      "execution_count": null,
      "outputs": [
        {
          "output_type": "stream",
          "name": "stdout",
          "text": [
            "8/8 [==============================] - 0s 3ms/step - loss: 6.5460 - mse: 6.5460\n",
            "Evaluation Loss: 6.545966148376465\n",
            "Evaluation Mean Squared Error: 6.545966148376465\n"
          ]
        }
      ]
    },
    {
      "cell_type": "code",
      "source": [
        "from sklearn.model_selection import train_test_split\n",
        "\n",
        "# Split the dataset into training and testing sets\n",
        "X_train, X_test, y_train, y_test = train_test_split(X, y, test_size=0.2, random_state=42)\n",
        "\n",
        "# X_train and y_train are the training features and targets, respectively\n",
        "# X_test and y_test are the testing features and targets, respectively\n"
      ],
      "metadata": {
        "id": "fIkmFUV9tfVr"
      },
      "execution_count": null,
      "outputs": []
    },
    {
      "cell_type": "code",
      "source": [
        "# Assuming you have already trained the model and have X_test, y_test defined\n",
        "\n",
        "# Make predictions on the test set\n",
        "y_pred_test = model.predict(X_test)\n",
        "\n",
        "# Calculate test metrics\n",
        "from sklearn.metrics import mean_squared_error, r2_score\n",
        "\n",
        "mse_test = mean_squared_error(y_test, y_pred_test)\n",
        "r2_test = r2_score(y_test, y_pred_test)\n",
        "\n",
        "print(\"Test Mean Squared Error:\", mse_test)\n",
        "print(\"Test R-squared Score:\", r2_test)\n"
      ],
      "metadata": {
        "colab": {
          "base_uri": "https://localhost:8080/"
        },
        "id": "XKCb3zOXuD49",
        "outputId": "fafcdfe2-e30b-46d4-88eb-7201763d9e05"
      },
      "execution_count": null,
      "outputs": [
        {
          "output_type": "stream",
          "name": "stdout",
          "text": [
            "8/8 [==============================] - 0s 2ms/step\n",
            "Test Mean Squared Error: 6.545966303306245\n",
            "Test R-squared Score: 0.2509149210143238\n"
          ]
        }
      ]
    },
    {
      "cell_type": "code",
      "source": [],
      "metadata": {
        "id": "TTR7LAk7uoLp"
      },
      "execution_count": null,
      "outputs": []
    }
  ]
}